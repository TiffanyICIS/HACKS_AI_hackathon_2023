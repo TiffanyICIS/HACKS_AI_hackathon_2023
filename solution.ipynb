{
 "cells": [
  {
   "cell_type": "code",
   "execution_count": 42,
   "id": "2ad42daf",
   "metadata": {},
   "outputs": [],
   "source": [
    "import pandas as pd\n",
    "import numpy as np\n",
    "import hdbscan\n",
    "from sklearn.decomposition import PCA\n",
    "import matplotlib.pyplot as plt\n",
    "from sklearn.preprocessing import StandardScaler, MinMaxScaler\n",
    "import os\n",
    "from tqdm import tqdm\n",
    "import umap\n",
    "import seaborn as sns"
   ]
  },
  {
   "cell_type": "code",
   "execution_count": 2,
   "id": "f3ac31e0",
   "metadata": {},
   "outputs": [],
   "source": [
    "N_COMPONENTS = 1\n",
    "INPUT_DIR = 'datasets/Anonimized/'"
   ]
  },
  {
   "cell_type": "code",
   "execution_count": 3,
   "id": "fa6eb819",
   "metadata": {},
   "outputs": [],
   "source": [
    "# stop_columns = ['№', 'Компатриоты', 'Unnamed: 4', 'Название команды', 'ФИО участников', 'ФИО', 'Компетенция', 'Баллы, ед.', 'Баллы по ключевым навыкам', 'Максимальное значение']\n",
    "stop_columns = ['№', 'Компатриоты', 'Unnamed: 4', 'Название команды', 'ФИО участников', 'ФИО', 'Компетенция', 'Баллы, ед.', 'Баллы, %','Баллы по ключевым навыкам', 'Максимальное значение']"
   ]
  },
  {
   "cell_type": "code",
   "execution_count": 43,
   "id": "d45b3736",
   "metadata": {
    "scrolled": false
   },
   "outputs": [],
   "source": [
    "def data_prep(files_names):\n",
    "    full_data = pd.DataFrame(columns=['ФИО', 'Компетенция'] + [f'feat_{i}' for i in range(N_COMPONENTS)])\n",
    "\n",
    "    for filename in tqdm(files_names):\n",
    "        data = pd.read_csv(INPUT_DIR + filename)\n",
    "        if 'ФИО' in data.columns:\n",
    "            fio = data['ФИО']\n",
    "        else:\n",
    "            fio = data['ФИО участников']\n",
    "        comp = data['Компетенция']\n",
    "        if data['Баллы, %'].isna().sum() != 0 and data['Баллы, ед.'].isna().sum() == 0:\n",
    "            data['Баллы, %'] = data['Баллы, ед.']\n",
    "        elif data['Баллы, %'].isna().sum() != 0 and data['Баллы по ключевым навыкам'].isna().sum() == 0:\n",
    "            data['Баллы, %'] = data['Баллы по ключевым навыкам']\n",
    "        score = data['Баллы, %'].apply(lambda x: x.replace(',','.').replace('%', '')).astype(float)\n",
    "        for column in stop_columns:\n",
    "            if column in data.columns:\n",
    "                data = data.drop(column, axis=1)\n",
    "        data = data.dropna(axis=1, how='all')\n",
    "        float_columns = data.select_dtypes(include=[object]).apply(lambda x: x.str.replace(',','.').str.replace('%', '')).astype(float)\n",
    "        int_columns = data.select_dtypes(include=['int'])\n",
    "        data = pd.concat([float_columns, int_columns], axis=1)\n",
    "        scaler = StandardScaler()\n",
    "        data = scaler.fit_transform(data)\n",
    "        data = np.nan_to_num(data, nan=0)\n",
    "        pca = PCA(n_components=N_COMPONENTS)\n",
    "        scaler = MinMaxScaler(feature_range=(-20, 20))\n",
    "        score_scaled = scaler.fit_transform(score.to_numpy().reshape(-1, 1))\n",
    "        data_reduced = pca.fit_transform(data)\n",
    "        data_reduced = pd.DataFrame(data_reduced, columns = [f'feat_{i}' for i in range(N_COMPONENTS)])\n",
    "        data_reduced['ФИО'], data_reduced['Компетенция'], data_reduced['score'] = fio, comp, score_scaled\n",
    "        full_data = pd.concat([data_reduced, full_data], axis=0)\n",
    "    return full_data"
   ]
  },
  {
   "cell_type": "code",
   "execution_count": 44,
   "id": "61df685b",
   "metadata": {},
   "outputs": [
    {
     "name": "stderr",
     "output_type": "stream",
     "text": [
      "100%|██████████| 39/39 [00:02<00:00, 15.50it/s]\n"
     ]
    }
   ],
   "source": [
    "file_list = os.listdir(INPUT_DIR)\n",
    "full_data = data_prep(file_list)"
   ]
  },
  {
   "cell_type": "code",
   "execution_count": 45,
   "id": "2ac61b23",
   "metadata": {},
   "outputs": [
    {
     "data": {
      "text/html": [
       "<div>\n",
       "<style scoped>\n",
       "    .dataframe tbody tr th:only-of-type {\n",
       "        vertical-align: middle;\n",
       "    }\n",
       "\n",
       "    .dataframe tbody tr th {\n",
       "        vertical-align: top;\n",
       "    }\n",
       "\n",
       "    .dataframe thead th {\n",
       "        text-align: right;\n",
       "    }\n",
       "</style>\n",
       "<table border=\"1\" class=\"dataframe\">\n",
       "  <thead>\n",
       "    <tr style=\"text-align: right;\">\n",
       "      <th></th>\n",
       "      <th>feat_0</th>\n",
       "      <th>ФИО</th>\n",
       "      <th>Компетенция</th>\n",
       "      <th>score</th>\n",
       "    </tr>\n",
       "  </thead>\n",
       "  <tbody>\n",
       "    <tr>\n",
       "      <th>0</th>\n",
       "      <td>-3.947337</td>\n",
       "      <td>ФИО_478; ФИО_123; ФИО_220</td>\n",
       "      <td>Бетонные строительные работы</td>\n",
       "      <td>14.738595</td>\n",
       "    </tr>\n",
       "    <tr>\n",
       "      <th>1</th>\n",
       "      <td>-5.327404</td>\n",
       "      <td>ФИО_330; ФИО_564; ФИО_573</td>\n",
       "      <td>Бетонные строительные работы</td>\n",
       "      <td>20.000000</td>\n",
       "    </tr>\n",
       "    <tr>\n",
       "      <th>2</th>\n",
       "      <td>-3.057025</td>\n",
       "      <td>ФИО_175; ФИО_332; ФИО_344</td>\n",
       "      <td>Бетонные строительные работы</td>\n",
       "      <td>5.281385</td>\n",
       "    </tr>\n",
       "    <tr>\n",
       "      <th>3</th>\n",
       "      <td>0.092196</td>\n",
       "      <td>ФИО_173; ФИО_617; ФИО_708</td>\n",
       "      <td>Бетонные строительные работы</td>\n",
       "      <td>-4.775225</td>\n",
       "    </tr>\n",
       "    <tr>\n",
       "      <th>4</th>\n",
       "      <td>12.239570</td>\n",
       "      <td>ФИО_205; ФИО_671; ФИО_674</td>\n",
       "      <td>Бетонные строительные работы</td>\n",
       "      <td>-20.000000</td>\n",
       "    </tr>\n",
       "    <tr>\n",
       "      <th>...</th>\n",
       "      <td>...</td>\n",
       "      <td>...</td>\n",
       "      <td>...</td>\n",
       "      <td>...</td>\n",
       "    </tr>\n",
       "    <tr>\n",
       "      <th>4</th>\n",
       "      <td>-1.397307</td>\n",
       "      <td>ФИО_75; ФИО_236; ФИО_363; ФИО_383; ФИО_561; ФИ...</td>\n",
       "      <td>Управление жизненным циклом</td>\n",
       "      <td>1.350434</td>\n",
       "    </tr>\n",
       "    <tr>\n",
       "      <th>5</th>\n",
       "      <td>0.732136</td>\n",
       "      <td>ФИО_165; ФИО_372; ФИО_413; ФИО_513; ФИО_568; Ф...</td>\n",
       "      <td>Управление жизненным циклом</td>\n",
       "      <td>-9.151264</td>\n",
       "    </tr>\n",
       "    <tr>\n",
       "      <th>6</th>\n",
       "      <td>7.927428</td>\n",
       "      <td>ФИО_25; ФИО_224; ФИО_565; ФИО_574; ФИО_603; ФИ...</td>\n",
       "      <td>Управление жизненным циклом</td>\n",
       "      <td>-15.986420</td>\n",
       "    </tr>\n",
       "    <tr>\n",
       "      <th>7</th>\n",
       "      <td>6.105891</td>\n",
       "      <td>ФИО_33; ФИО_66; ФИО_80; ФИО_234; ФИО_320; ФИО_...</td>\n",
       "      <td>Управление жизненным циклом</td>\n",
       "      <td>-18.777820</td>\n",
       "    </tr>\n",
       "    <tr>\n",
       "      <th>8</th>\n",
       "      <td>5.026954</td>\n",
       "      <td>ФИО_29; ФИО_250; ФИО_263; ФИО_380; ФИО_390; ФИ...</td>\n",
       "      <td>Управление жизненным циклом</td>\n",
       "      <td>-20.000000</td>\n",
       "    </tr>\n",
       "  </tbody>\n",
       "</table>\n",
       "<p>450 rows × 4 columns</p>\n",
       "</div>"
      ],
      "text/plain": [
       "       feat_0                                                ФИО   \n",
       "0   -3.947337                          ФИО_478; ФИО_123; ФИО_220  \\\n",
       "1   -5.327404                          ФИО_330; ФИО_564; ФИО_573   \n",
       "2   -3.057025                          ФИО_175; ФИО_332; ФИО_344   \n",
       "3    0.092196                          ФИО_173; ФИО_617; ФИО_708   \n",
       "4   12.239570                          ФИО_205; ФИО_671; ФИО_674   \n",
       "..        ...                                                ...   \n",
       "4   -1.397307  ФИО_75; ФИО_236; ФИО_363; ФИО_383; ФИО_561; ФИ...   \n",
       "5    0.732136  ФИО_165; ФИО_372; ФИО_413; ФИО_513; ФИО_568; Ф...   \n",
       "6    7.927428  ФИО_25; ФИО_224; ФИО_565; ФИО_574; ФИО_603; ФИ...   \n",
       "7    6.105891  ФИО_33; ФИО_66; ФИО_80; ФИО_234; ФИО_320; ФИО_...   \n",
       "8    5.026954  ФИО_29; ФИО_250; ФИО_263; ФИО_380; ФИО_390; ФИ...   \n",
       "\n",
       "                     Компетенция      score  \n",
       "0   Бетонные строительные работы  14.738595  \n",
       "1   Бетонные строительные работы  20.000000  \n",
       "2   Бетонные строительные работы   5.281385  \n",
       "3   Бетонные строительные работы  -4.775225  \n",
       "4   Бетонные строительные работы -20.000000  \n",
       "..                           ...        ...  \n",
       "4    Управление жизненным циклом   1.350434  \n",
       "5    Управление жизненным циклом  -9.151264  \n",
       "6    Управление жизненным циклом -15.986420  \n",
       "7    Управление жизненным циклом -18.777820  \n",
       "8    Управление жизненным циклом -20.000000  \n",
       "\n",
       "[450 rows x 4 columns]"
      ]
     },
     "execution_count": 45,
     "metadata": {},
     "output_type": "execute_result"
    }
   ],
   "source": [
    "full_data"
   ]
  },
  {
   "cell_type": "code",
   "execution_count": 46,
   "id": "b11ab943",
   "metadata": {},
   "outputs": [
    {
     "data": {
      "text/html": [
       "<div>\n",
       "<style scoped>\n",
       "    .dataframe tbody tr th:only-of-type {\n",
       "        vertical-align: middle;\n",
       "    }\n",
       "\n",
       "    .dataframe tbody tr th {\n",
       "        vertical-align: top;\n",
       "    }\n",
       "\n",
       "    .dataframe thead th {\n",
       "        text-align: right;\n",
       "    }\n",
       "</style>\n",
       "<table border=\"1\" class=\"dataframe\">\n",
       "  <thead>\n",
       "    <tr style=\"text-align: right;\">\n",
       "      <th></th>\n",
       "      <th>feat_0</th>\n",
       "      <th>score</th>\n",
       "    </tr>\n",
       "  </thead>\n",
       "  <tbody>\n",
       "    <tr>\n",
       "      <th>count</th>\n",
       "      <td>4.500000e+02</td>\n",
       "      <td>450.000000</td>\n",
       "    </tr>\n",
       "    <tr>\n",
       "      <th>mean</th>\n",
       "      <td>-6.315935e-17</td>\n",
       "      <td>-0.549276</td>\n",
       "    </tr>\n",
       "    <tr>\n",
       "      <th>std</th>\n",
       "      <td>6.774351e+00</td>\n",
       "      <td>13.047248</td>\n",
       "    </tr>\n",
       "    <tr>\n",
       "      <th>min</th>\n",
       "      <td>-1.520420e+01</td>\n",
       "      <td>-20.000000</td>\n",
       "    </tr>\n",
       "    <tr>\n",
       "      <th>25%</th>\n",
       "      <td>-4.950782e+00</td>\n",
       "      <td>-12.284908</td>\n",
       "    </tr>\n",
       "    <tr>\n",
       "      <th>50%</th>\n",
       "      <td>-9.491644e-01</td>\n",
       "      <td>-0.111563</td>\n",
       "    </tr>\n",
       "    <tr>\n",
       "      <th>75%</th>\n",
       "      <td>4.571988e+00</td>\n",
       "      <td>9.875143</td>\n",
       "    </tr>\n",
       "    <tr>\n",
       "      <th>max</th>\n",
       "      <td>2.600110e+01</td>\n",
       "      <td>20.000000</td>\n",
       "    </tr>\n",
       "  </tbody>\n",
       "</table>\n",
       "</div>"
      ],
      "text/plain": [
       "             feat_0       score\n",
       "count  4.500000e+02  450.000000\n",
       "mean  -6.315935e-17   -0.549276\n",
       "std    6.774351e+00   13.047248\n",
       "min   -1.520420e+01  -20.000000\n",
       "25%   -4.950782e+00  -12.284908\n",
       "50%   -9.491644e-01   -0.111563\n",
       "75%    4.571988e+00    9.875143\n",
       "max    2.600110e+01   20.000000"
      ]
     },
     "execution_count": 46,
     "metadata": {},
     "output_type": "execute_result"
    }
   ],
   "source": [
    "# loh = full_data.iloc[:, 0:N_COMPONENTS]\n",
    "loh = full_data.iloc[:, [0, -1]]\n",
    "loh.describe()"
   ]
  },
  {
   "cell_type": "code",
   "execution_count": 52,
   "id": "e9942d31",
   "metadata": {},
   "outputs": [
    {
     "name": "stderr",
     "output_type": "stream",
     "text": [
      "/tmp/ipykernel_33297/437510255.py:4: SettingWithCopyWarning: \n",
      "A value is trying to be set on a copy of a slice from a DataFrame.\n",
      "Try using .loc[row_indexer,col_indexer] = value instead\n",
      "\n",
      "See the caveats in the documentation: https://pandas.pydata.org/pandas-docs/stable/user_guide/indexing.html#returning-a-view-versus-a-copy\n",
      "  loh['labels'] = cluster.labels_\n"
     ]
    },
    {
     "ename": "ValueError",
     "evalue": "'c' argument has 289 elements, which is inconsistent with 'x' and 'y' with size 161.",
     "output_type": "error",
     "traceback": [
      "\u001b[0;31m---------------------------------------------------------------------------\u001b[0m",
      "\u001b[0;31mValueError\u001b[0m                                Traceback (most recent call last)",
      "File \u001b[0;32m~/VSCodeProj/Rosatom_hack/.venv/lib/python3.10/site-packages/matplotlib/axes/_axes.py:4439\u001b[0m, in \u001b[0;36mAxes._parse_scatter_color_args\u001b[0;34m(c, edgecolors, kwargs, xsize, get_next_color_func)\u001b[0m\n\u001b[1;32m   4438\u001b[0m \u001b[39mtry\u001b[39;00m:  \u001b[39m# Is 'c' acceptable as PathCollection facecolors?\u001b[39;00m\n\u001b[0;32m-> 4439\u001b[0m     colors \u001b[39m=\u001b[39m mcolors\u001b[39m.\u001b[39;49mto_rgba_array(c)\n\u001b[1;32m   4440\u001b[0m \u001b[39mexcept\u001b[39;00m (\u001b[39mTypeError\u001b[39;00m, \u001b[39mValueError\u001b[39;00m) \u001b[39mas\u001b[39;00m err:\n",
      "File \u001b[0;32m~/VSCodeProj/Rosatom_hack/.venv/lib/python3.10/site-packages/matplotlib/colors.py:487\u001b[0m, in \u001b[0;36mto_rgba_array\u001b[0;34m(c, alpha)\u001b[0m\n\u001b[1;32m    486\u001b[0m \u001b[39melse\u001b[39;00m:\n\u001b[0;32m--> 487\u001b[0m     rgba \u001b[39m=\u001b[39m np\u001b[39m.\u001b[39marray([to_rgba(cc) \u001b[39mfor\u001b[39;00m cc \u001b[39min\u001b[39;00m c])\n\u001b[1;32m    489\u001b[0m \u001b[39mif\u001b[39;00m alpha \u001b[39mis\u001b[39;00m \u001b[39mnot\u001b[39;00m \u001b[39mNone\u001b[39;00m:\n",
      "File \u001b[0;32m~/VSCodeProj/Rosatom_hack/.venv/lib/python3.10/site-packages/matplotlib/colors.py:487\u001b[0m, in \u001b[0;36m<listcomp>\u001b[0;34m(.0)\u001b[0m\n\u001b[1;32m    486\u001b[0m \u001b[39melse\u001b[39;00m:\n\u001b[0;32m--> 487\u001b[0m     rgba \u001b[39m=\u001b[39m np\u001b[39m.\u001b[39marray([to_rgba(cc) \u001b[39mfor\u001b[39;00m cc \u001b[39min\u001b[39;00m c])\n\u001b[1;32m    489\u001b[0m \u001b[39mif\u001b[39;00m alpha \u001b[39mis\u001b[39;00m \u001b[39mnot\u001b[39;00m \u001b[39mNone\u001b[39;00m:\n",
      "File \u001b[0;32m~/VSCodeProj/Rosatom_hack/.venv/lib/python3.10/site-packages/matplotlib/colors.py:299\u001b[0m, in \u001b[0;36mto_rgba\u001b[0;34m(c, alpha)\u001b[0m\n\u001b[1;32m    298\u001b[0m \u001b[39mif\u001b[39;00m rgba \u001b[39mis\u001b[39;00m \u001b[39mNone\u001b[39;00m:  \u001b[39m# Suppress exception chaining of cache lookup failure.\u001b[39;00m\n\u001b[0;32m--> 299\u001b[0m     rgba \u001b[39m=\u001b[39m _to_rgba_no_colorcycle(c, alpha)\n\u001b[1;32m    300\u001b[0m     \u001b[39mtry\u001b[39;00m:\n",
      "File \u001b[0;32m~/VSCodeProj/Rosatom_hack/.venv/lib/python3.10/site-packages/matplotlib/colors.py:381\u001b[0m, in \u001b[0;36m_to_rgba_no_colorcycle\u001b[0;34m(c, alpha)\u001b[0m\n\u001b[1;32m    380\u001b[0m \u001b[39mif\u001b[39;00m \u001b[39mnot\u001b[39;00m np\u001b[39m.\u001b[39miterable(c):\n\u001b[0;32m--> 381\u001b[0m     \u001b[39mraise\u001b[39;00m \u001b[39mValueError\u001b[39;00m(\u001b[39mf\u001b[39m\u001b[39m\"\u001b[39m\u001b[39mInvalid RGBA argument: \u001b[39m\u001b[39m{\u001b[39;00morig_c\u001b[39m!r}\u001b[39;00m\u001b[39m\"\u001b[39m)\n\u001b[1;32m    382\u001b[0m \u001b[39mif\u001b[39;00m \u001b[39mlen\u001b[39m(c) \u001b[39mnot\u001b[39;00m \u001b[39min\u001b[39;00m [\u001b[39m3\u001b[39m, \u001b[39m4\u001b[39m]:\n",
      "\u001b[0;31mValueError\u001b[0m: Invalid RGBA argument: 2.0",
      "\nThe above exception was the direct cause of the following exception:\n",
      "\u001b[0;31mValueError\u001b[0m                                Traceback (most recent call last)",
      "Cell \u001b[0;32mIn[52], line 11\u001b[0m\n\u001b[1;32m      8\u001b[0m clustered \u001b[39m=\u001b[39m loh\u001b[39m.\u001b[39mloc[loh\u001b[39m.\u001b[39mlabels \u001b[39m!=\u001b[39m \u001b[39m-\u001b[39m\u001b[39m1\u001b[39m, :]\n\u001b[1;32m     10\u001b[0m plt\u001b[39m.\u001b[39mscatter(outliers\u001b[39m.\u001b[39mfeat_0, outliers\u001b[39m.\u001b[39mscore, color\u001b[39m=\u001b[39m\u001b[39m'\u001b[39m\u001b[39m#BDBDBD\u001b[39m\u001b[39m'\u001b[39m, s\u001b[39m=\u001b[39m\u001b[39m30\u001b[39m)\n\u001b[0;32m---> 11\u001b[0m plt\u001b[39m.\u001b[39;49mscatter(outliers\u001b[39m.\u001b[39;49mfeat_0, outliers\u001b[39m.\u001b[39;49mscore, c\u001b[39m=\u001b[39;49mclustered\u001b[39m.\u001b[39;49mlabels, \n\u001b[1;32m     12\u001b[0m s\u001b[39m=\u001b[39;49m\u001b[39m30\u001b[39;49m, cmap\u001b[39m=\u001b[39;49m\u001b[39m'\u001b[39;49m\u001b[39mhsv_r\u001b[39;49m\u001b[39m'\u001b[39;49m)\n\u001b[1;32m     14\u001b[0m plt\u001b[39m.\u001b[39mcolorbar()\n",
      "File \u001b[0;32m~/VSCodeProj/Rosatom_hack/.venv/lib/python3.10/site-packages/matplotlib/pyplot.py:2862\u001b[0m, in \u001b[0;36mscatter\u001b[0;34m(x, y, s, c, marker, cmap, norm, vmin, vmax, alpha, linewidths, edgecolors, plotnonfinite, data, **kwargs)\u001b[0m\n\u001b[1;32m   2857\u001b[0m \u001b[39m@_copy_docstring_and_deprecators\u001b[39m(Axes\u001b[39m.\u001b[39mscatter)\n\u001b[1;32m   2858\u001b[0m \u001b[39mdef\u001b[39;00m \u001b[39mscatter\u001b[39m(\n\u001b[1;32m   2859\u001b[0m         x, y, s\u001b[39m=\u001b[39m\u001b[39mNone\u001b[39;00m, c\u001b[39m=\u001b[39m\u001b[39mNone\u001b[39;00m, marker\u001b[39m=\u001b[39m\u001b[39mNone\u001b[39;00m, cmap\u001b[39m=\u001b[39m\u001b[39mNone\u001b[39;00m, norm\u001b[39m=\u001b[39m\u001b[39mNone\u001b[39;00m,\n\u001b[1;32m   2860\u001b[0m         vmin\u001b[39m=\u001b[39m\u001b[39mNone\u001b[39;00m, vmax\u001b[39m=\u001b[39m\u001b[39mNone\u001b[39;00m, alpha\u001b[39m=\u001b[39m\u001b[39mNone\u001b[39;00m, linewidths\u001b[39m=\u001b[39m\u001b[39mNone\u001b[39;00m, \u001b[39m*\u001b[39m,\n\u001b[1;32m   2861\u001b[0m         edgecolors\u001b[39m=\u001b[39m\u001b[39mNone\u001b[39;00m, plotnonfinite\u001b[39m=\u001b[39m\u001b[39mFalse\u001b[39;00m, data\u001b[39m=\u001b[39m\u001b[39mNone\u001b[39;00m, \u001b[39m*\u001b[39m\u001b[39m*\u001b[39mkwargs):\n\u001b[0;32m-> 2862\u001b[0m     __ret \u001b[39m=\u001b[39m gca()\u001b[39m.\u001b[39;49mscatter(\n\u001b[1;32m   2863\u001b[0m         x, y, s\u001b[39m=\u001b[39;49ms, c\u001b[39m=\u001b[39;49mc, marker\u001b[39m=\u001b[39;49mmarker, cmap\u001b[39m=\u001b[39;49mcmap, norm\u001b[39m=\u001b[39;49mnorm,\n\u001b[1;32m   2864\u001b[0m         vmin\u001b[39m=\u001b[39;49mvmin, vmax\u001b[39m=\u001b[39;49mvmax, alpha\u001b[39m=\u001b[39;49malpha, linewidths\u001b[39m=\u001b[39;49mlinewidths,\n\u001b[1;32m   2865\u001b[0m         edgecolors\u001b[39m=\u001b[39;49medgecolors, plotnonfinite\u001b[39m=\u001b[39;49mplotnonfinite,\n\u001b[1;32m   2866\u001b[0m         \u001b[39m*\u001b[39;49m\u001b[39m*\u001b[39;49m({\u001b[39m\"\u001b[39;49m\u001b[39mdata\u001b[39;49m\u001b[39m\"\u001b[39;49m: data} \u001b[39mif\u001b[39;49;00m data \u001b[39mis\u001b[39;49;00m \u001b[39mnot\u001b[39;49;00m \u001b[39mNone\u001b[39;49;00m \u001b[39melse\u001b[39;49;00m {}), \u001b[39m*\u001b[39;49m\u001b[39m*\u001b[39;49mkwargs)\n\u001b[1;32m   2867\u001b[0m     sci(__ret)\n\u001b[1;32m   2868\u001b[0m     \u001b[39mreturn\u001b[39;00m __ret\n",
      "File \u001b[0;32m~/VSCodeProj/Rosatom_hack/.venv/lib/python3.10/site-packages/matplotlib/__init__.py:1442\u001b[0m, in \u001b[0;36m_preprocess_data.<locals>.inner\u001b[0;34m(ax, data, *args, **kwargs)\u001b[0m\n\u001b[1;32m   1439\u001b[0m \u001b[39m@functools\u001b[39m\u001b[39m.\u001b[39mwraps(func)\n\u001b[1;32m   1440\u001b[0m \u001b[39mdef\u001b[39;00m \u001b[39minner\u001b[39m(ax, \u001b[39m*\u001b[39margs, data\u001b[39m=\u001b[39m\u001b[39mNone\u001b[39;00m, \u001b[39m*\u001b[39m\u001b[39m*\u001b[39mkwargs):\n\u001b[1;32m   1441\u001b[0m     \u001b[39mif\u001b[39;00m data \u001b[39mis\u001b[39;00m \u001b[39mNone\u001b[39;00m:\n\u001b[0;32m-> 1442\u001b[0m         \u001b[39mreturn\u001b[39;00m func(ax, \u001b[39m*\u001b[39;49m\u001b[39mmap\u001b[39;49m(sanitize_sequence, args), \u001b[39m*\u001b[39;49m\u001b[39m*\u001b[39;49mkwargs)\n\u001b[1;32m   1444\u001b[0m     bound \u001b[39m=\u001b[39m new_sig\u001b[39m.\u001b[39mbind(ax, \u001b[39m*\u001b[39margs, \u001b[39m*\u001b[39m\u001b[39m*\u001b[39mkwargs)\n\u001b[1;32m   1445\u001b[0m     auto_label \u001b[39m=\u001b[39m (bound\u001b[39m.\u001b[39marguments\u001b[39m.\u001b[39mget(label_namer)\n\u001b[1;32m   1446\u001b[0m                   \u001b[39mor\u001b[39;00m bound\u001b[39m.\u001b[39mkwargs\u001b[39m.\u001b[39mget(label_namer))\n",
      "File \u001b[0;32m~/VSCodeProj/Rosatom_hack/.venv/lib/python3.10/site-packages/matplotlib/axes/_axes.py:4602\u001b[0m, in \u001b[0;36mAxes.scatter\u001b[0;34m(self, x, y, s, c, marker, cmap, norm, vmin, vmax, alpha, linewidths, edgecolors, plotnonfinite, **kwargs)\u001b[0m\n\u001b[1;32m   4599\u001b[0m \u001b[39mif\u001b[39;00m edgecolors \u001b[39mis\u001b[39;00m \u001b[39mNone\u001b[39;00m:\n\u001b[1;32m   4600\u001b[0m     orig_edgecolor \u001b[39m=\u001b[39m kwargs\u001b[39m.\u001b[39mget(\u001b[39m'\u001b[39m\u001b[39medgecolor\u001b[39m\u001b[39m'\u001b[39m, \u001b[39mNone\u001b[39;00m)\n\u001b[1;32m   4601\u001b[0m c, colors, edgecolors \u001b[39m=\u001b[39m \\\n\u001b[0;32m-> 4602\u001b[0m     \u001b[39mself\u001b[39;49m\u001b[39m.\u001b[39;49m_parse_scatter_color_args(\n\u001b[1;32m   4603\u001b[0m         c, edgecolors, kwargs, x\u001b[39m.\u001b[39;49msize,\n\u001b[1;32m   4604\u001b[0m         get_next_color_func\u001b[39m=\u001b[39;49m\u001b[39mself\u001b[39;49m\u001b[39m.\u001b[39;49m_get_patches_for_fill\u001b[39m.\u001b[39;49mget_next_color)\n\u001b[1;32m   4606\u001b[0m \u001b[39mif\u001b[39;00m plotnonfinite \u001b[39mand\u001b[39;00m colors \u001b[39mis\u001b[39;00m \u001b[39mNone\u001b[39;00m:\n\u001b[1;32m   4607\u001b[0m     c \u001b[39m=\u001b[39m np\u001b[39m.\u001b[39mma\u001b[39m.\u001b[39mmasked_invalid(c)\n",
      "File \u001b[0;32m~/VSCodeProj/Rosatom_hack/.venv/lib/python3.10/site-packages/matplotlib/axes/_axes.py:4445\u001b[0m, in \u001b[0;36mAxes._parse_scatter_color_args\u001b[0;34m(c, edgecolors, kwargs, xsize, get_next_color_func)\u001b[0m\n\u001b[1;32m   4443\u001b[0m \u001b[39melse\u001b[39;00m:\n\u001b[1;32m   4444\u001b[0m     \u001b[39mif\u001b[39;00m \u001b[39mnot\u001b[39;00m valid_shape:\n\u001b[0;32m-> 4445\u001b[0m         \u001b[39mraise\u001b[39;00m invalid_shape_exception(c\u001b[39m.\u001b[39msize, xsize) \u001b[39mfrom\u001b[39;00m \u001b[39merr\u001b[39;00m\n\u001b[1;32m   4446\u001b[0m     \u001b[39m# Both the mapping *and* the RGBA conversion failed: pretty\u001b[39;00m\n\u001b[1;32m   4447\u001b[0m     \u001b[39m# severe failure => one may appreciate a verbose feedback.\u001b[39;00m\n\u001b[1;32m   4448\u001b[0m     \u001b[39mraise\u001b[39;00m \u001b[39mValueError\u001b[39;00m(\n\u001b[1;32m   4449\u001b[0m         \u001b[39mf\u001b[39m\u001b[39m\"\u001b[39m\u001b[39m'\u001b[39m\u001b[39mc\u001b[39m\u001b[39m'\u001b[39m\u001b[39m argument must be a color, a sequence of colors, \u001b[39m\u001b[39m\"\u001b[39m\n\u001b[1;32m   4450\u001b[0m         \u001b[39mf\u001b[39m\u001b[39m\"\u001b[39m\u001b[39mor a sequence of numbers, not \u001b[39m\u001b[39m{\u001b[39;00mc\u001b[39m!r}\u001b[39;00m\u001b[39m\"\u001b[39m) \u001b[39mfrom\u001b[39;00m \u001b[39merr\u001b[39;00m\n",
      "\u001b[0;31mValueError\u001b[0m: 'c' argument has 289 elements, which is inconsistent with 'x' and 'y' with size 161."
     ]
    },
    {
     "data": {
      "image/png": "[encoded data removed]",
      "text/plain": [
       "<Figure size 1000x1000 with 1 Axes>"
      ]
     },
     "metadata": {},
     "output_type": "display_data"
    }
   ],
   "source": [
    "cluster = hdbscan.HDBSCAN(min_cluster_size=15,\n",
    "                        metric='euclidean',                   \n",
    "                        cluster_selection_method='eom').fit(loh)\n",
    "loh['labels'] = cluster.labels_\n",
    "\n",
    "fig, ax = plt.subplots(figsize=(10, 10))\n",
    "outliers = loh.loc[loh.labels == -1, :]\n",
    "clustered = loh.loc[loh.labels != -1, :]\n",
    "\n",
    "plt.scatter(outliers.feat_0, outliers.score, color='#BDBDBD', s=30)\n",
    "plt.scatter(outliers.feat_0, outliers.score, c=clustered.labels, \n",
    "s=30, cmap='hsv_r')\n",
    "\n",
    "plt.colorbar()"
   ]
  },
  {
   "cell_type": "code",
   "execution_count": 53,
   "id": "50a099c7",
   "metadata": {},
   "outputs": [
    {
     "data": {
      "text/plain": [
       "labels\n",
       "-1    161\n",
       " 1    117\n",
       " 5     96\n",
       " 4     22\n",
       " 0     20\n",
       " 3     19\n",
       " 2     15\n",
       "Name: count, dtype: int64"
      ]
     },
     "execution_count": 53,
     "metadata": {},
     "output_type": "execute_result"
    }
   ],
   "source": [
    "loh['labels'].value_counts()"
   ]
  },
  {
   "cell_type": "code",
   "execution_count": null,
   "id": "390deccb",
   "metadata": {},
   "outputs": [],
   "source": []
  }
 ],
 "metadata": {
  "kernelspec": {
   "display_name": "Python 3 (ipykernel)",
   "language": "python",
   "name": "python3"
  },
  "language_info": {
   "codemirror_mode": {
    "name": "ipython",
    "version": 3
   },
   "file_extension": ".py",
   "mimetype": "text/x-python",
   "name": "python",
   "nbconvert_exporter": "python",
   "pygments_lexer": "ipython3",
   "version": "3.10.6"
  }
 },
 "nbformat": 4,
 "nbformat_minor": 5
}
